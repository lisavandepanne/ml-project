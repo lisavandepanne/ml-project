{
 "cells": [
  {
   "cell_type": "code",
   "execution_count": 13,
   "metadata": {},
   "outputs": [],
   "source": [
    "import numpy as np\n",
    "from helpers import *"
   ]
  },
  {
   "cell_type": "code",
   "execution_count": 15,
   "metadata": {},
   "outputs": [],
   "source": [
    "# You have to change the path for it to work\n",
    "\n",
    "data_path = 'D:\\\\EPFL\\\\MA1\\\\Machine Learning\\\\Projet 1\\\\dataset'\n",
    "\n",
    "#x_train_csv = 'D:\\\\EPFL\\\\MA1\\\\Machine Learning\\\\Projet 1\\\\dataset\\\\x_train.csv'\n",
    "#y_train_csv = 'D:\\\\EPFL\\\\MA1\\\\Machine Learning\\\\Projet 1\\\\dataset\\\\y_train.csv'\n",
    "#x_test_csv = 'D:\\\\EPFL\\\\MA1\\\\Machine Learning\\\\Projet 1\\\\dataset\\\\x_test.csv'"
   ]
  },
  {
   "cell_type": "code",
   "execution_count": 16,
   "metadata": {},
   "outputs": [],
   "source": [
    "x_train, x_test, y_train, train_ids, test_ids = load_csv_data(data_path, sub_sample=False)"
   ]
  },
  {
   "cell_type": "code",
   "execution_count": 17,
   "metadata": {},
   "outputs": [
    {
     "data": {
      "text/plain": [
       "array([[5.3000000e+01, 1.1000000e+01, 1.1162015e+07, 1.1000000e+01,\n",
       "        1.6000000e+01],\n",
       "       [3.3000000e+01, 1.2000000e+01, 1.2152015e+07, 1.2000000e+01,\n",
       "        1.5000000e+01],\n",
       "       [2.0000000e+01, 1.0000000e+01, 1.0202015e+07, 1.0000000e+01,\n",
       "        2.0000000e+01],\n",
       "       [4.2000000e+01, 6.0000000e+00, 6.1820150e+06, 6.0000000e+00,\n",
       "        1.8000000e+01],\n",
       "       [2.4000000e+01, 1.1000000e+01, 1.1062015e+07, 1.1000000e+01,\n",
       "        6.0000000e+00]])"
      ]
     },
     "execution_count": 17,
     "metadata": {},
     "output_type": "execute_result"
    }
   ],
   "source": [
    "x_train[:5,:5]"
   ]
  },
  {
   "cell_type": "code",
   "execution_count": null,
   "metadata": {},
   "outputs": [],
   "source": []
  }
 ],
 "metadata": {
  "kernelspec": {
   "display_name": "ML_MA1",
   "language": "python",
   "name": "python3"
  },
  "language_info": {
   "codemirror_mode": {
    "name": "ipython",
    "version": 3
   },
   "file_extension": ".py",
   "mimetype": "text/x-python",
   "name": "python",
   "nbconvert_exporter": "python",
   "pygments_lexer": "ipython3",
   "version": "3.12.5"
  }
 },
 "nbformat": 4,
 "nbformat_minor": 2
}
