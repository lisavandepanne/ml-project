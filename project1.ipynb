{
 "cells": [
  {
   "cell_type": "code",
   "execution_count": 75,
   "metadata": {},
   "outputs": [],
   "source": [
    "import numpy as np\n",
    "from helpers import *\n",
    "from implementations import *"
   ]
  },
  {
   "cell_type": "code",
   "execution_count": 71,
   "metadata": {},
   "outputs": [],
   "source": [
    "# You have to change the path for it to work\n",
    "data_path = 'D:\\\\EPFL\\\\MA1\\\\Machine Learning\\\\Projet 1\\\\dataset'"
   ]
  },
  {
   "cell_type": "code",
   "execution_count": 77,
   "metadata": {},
   "outputs": [],
   "source": [
    "x_train, x_test, y_train, train_ids, test_ids = load_csv_data(data_path, sub_sample=False)"
   ]
  },
  {
   "cell_type": "code",
   "execution_count": 44,
   "metadata": {},
   "outputs": [
    {
     "data": {
      "text/plain": [
       "(328135, 321)"
      ]
     },
     "execution_count": 44,
     "metadata": {},
     "output_type": "execute_result"
    }
   ],
   "source": [
    "x_train.shape"
   ]
  },
  {
   "cell_type": "code",
   "execution_count": 9,
   "metadata": {},
   "outputs": [
    {
     "data": {
      "text/plain": [
       "(109379, 321)"
      ]
     },
     "execution_count": 9,
     "metadata": {},
     "output_type": "execute_result"
    }
   ],
   "source": [
    "x_test.shape"
   ]
  },
  {
   "cell_type": "code",
   "execution_count": 10,
   "metadata": {},
   "outputs": [
    {
     "name": "stdout",
     "output_type": "stream",
     "text": [
      "[-1 -1 -1 -1 -1]\n"
     ]
    }
   ],
   "source": [
    "y_train.shape"
   ]
  },
  {
   "cell_type": "code",
   "execution_count": 27,
   "metadata": {},
   "outputs": [],
   "source": [
    "# Function to find the count of missing values in each columns\n",
    "def find_missing_values(data, headers=None):\n",
    "    num_rows, num_cols = data.shape\n",
    "    missing_count = np.zeros(num_cols, dtype=int)  \n",
    "    columns = np.linspace(0,num_cols, num_cols+1)\n",
    "    \n",
    "    for col in range(num_cols):\n",
    "        # Count the missing values\n",
    "        missing_count[col] = np.sum(np.isnan(data[:, col]))\n",
    "    if headers : \n",
    "        # Returning only the columns with missing values\n",
    "        missing_info = {headers[col]: missing_count[col] for col in range(num_cols) if missing_count[col] > 0}\n",
    "    else : \n",
    "        missing_info = {columns[col]: missing_count[col] for col in range(num_cols) if missing_count[col] > 0}\n",
    "    return missing_info"
   ]
  },
  {
   "cell_type": "code",
   "execution_count": 36,
   "metadata": {},
   "outputs": [],
   "source": [
    "# Function to remove columns with more than 1/3 of missing values\n",
    "def remove_high_missing_columns(data):\n",
    "    num_rows, num_cols = data.shape\n",
    "    threshold = num_rows / 3  # For now, i put this value, I don't know what is a good treshold\n",
    "    missing_count = find_missing_values(data) \n",
    "\n",
    "    # Create a mask for columns to keep\n",
    "    columns_to_keep = [col for col in range(num_cols) if missing_count.get(col, 0) <= threshold]\n",
    "\n",
    "    # Return a new array with only the columns that meet the criteria\n",
    "    return data[:, columns_to_keep]"
   ]
  },
  {
   "cell_type": "code",
   "execution_count": 56,
   "metadata": {},
   "outputs": [],
   "source": [
    "def get_info_on_data(data, headers):\n",
    "# Créer un dictionnaire pour stocker les informations\n",
    "    column_info = {}\n",
    "    if headers :\n",
    "        columns = headers\n",
    "    else : \n",
    "        columns = np.linspace(0,num_cols, num_cols+1)\n",
    "    num_rows, num_cols = data.shape\n",
    "\n",
    "    for col in range(data.shape[1]):\n",
    "        # Récupérer la colonne\n",
    "        column_values = data[:, col]\n",
    "\n",
    "        # Déterminer le type de variable\n",
    "        unique_values = set(column_values)  # Récupérer les valeurs uniques\n",
    "        length = len(unique_values)\n",
    "        min_value = min(unique_values)\n",
    "        max_value = max(unique_values)\n",
    "        try:\n",
    "            # Essayer de convertir en float pour déterminer le type\n",
    "            column_type = float(next(iter(unique_values)))  # Prendre le premier élément\n",
    "            column_type = 'float'  # Si la conversion réussit, c'est un float\n",
    "        except ValueError:\n",
    "            column_type = 'string'  # Sinon, c'est une chaîne\n",
    "        \n",
    "        # Ajouter des informations sur la colonne\n",
    "        column_info[columns[col]] = {\n",
    "            'type': column_type,\n",
    "            'length': length,\n",
    "            #'unique_values': unique_values\n",
    "            'min value' : min_value,\n",
    "            'max value' : max_value\n",
    "            \n",
    "        }\n",
    "\n",
    "    return column_info"
   ]
  },
  {
   "cell_type": "code",
   "execution_count": 57,
   "metadata": {},
   "outputs": [],
   "source": [
    "column_info = get_info_on_data(x_train)"
   ]
  },
  {
   "cell_type": "code",
   "execution_count": 68,
   "metadata": {},
   "outputs": [
    {
     "name": "stdout",
     "output_type": "stream",
     "text": [
      "{'type': 'float', 'length': 53, 'min value': np.float64(1.0), 'max value': np.float64(72.0)}\n",
      "{'type': 'float', 'length': 12, 'min value': np.float64(1.0), 'max value': np.float64(12.0)}\n"
     ]
    }
   ],
   "source": [
    "print(column_info[0])\n",
    "print(column_info[1])"
   ]
  },
  {
   "cell_type": "code",
   "execution_count": 28,
   "metadata": {},
   "outputs": [],
   "source": [
    "column_with_nan = find_missing_values(x_train)"
   ]
  },
  {
   "cell_type": "code",
   "execution_count": 37,
   "metadata": {},
   "outputs": [],
   "source": [
    "sliced_x_train = remove_high_missing_columns(x_train)"
   ]
  },
  {
   "cell_type": "code",
   "execution_count": 38,
   "metadata": {},
   "outputs": [
    {
     "data": {
      "text/plain": [
       "(328135, 147)"
      ]
     },
     "execution_count": 38,
     "metadata": {},
     "output_type": "execute_result"
    }
   ],
   "source": [
    "sliced_x_train.shape"
   ]
  },
  {
   "cell_type": "code",
   "execution_count": null,
   "metadata": {},
   "outputs": [],
   "source": [
    "#print(column_with_nan)\n",
    "print(x_train.shape)\n",
    "print(len(column_with_nan))\n",
    "print(max(column_with_nan.values()))\n",
    "print(min(column_with_nan.values()))"
   ]
  }
 ],
 "metadata": {
  "kernelspec": {
   "display_name": "ML_MA1",
   "language": "python",
   "name": "python3"
  },
  "language_info": {
   "codemirror_mode": {
    "name": "ipython",
    "version": 3
   },
   "file_extension": ".py",
   "mimetype": "text/x-python",
   "name": "python",
   "nbconvert_exporter": "python",
   "pygments_lexer": "ipython3",
   "version": "3.12.5"
  }
 },
 "nbformat": 4,
 "nbformat_minor": 2
}
